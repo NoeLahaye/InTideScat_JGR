{
 "cells": [
  {
   "cell_type": "markdown",
   "metadata": {},
   "source": [
    "## plot_ScatMatrix_luckyt\n",
    "from plot_ScatMatrix_paper\n",
    "\n",
    "TODO"
   ]
  },
  {
   "cell_type": "code",
   "execution_count": 35,
   "metadata": {},
   "outputs": [],
   "source": [
    "%matplotlib inline\n",
    "from matplotlib import pyplot as plt\n",
    "from matplotlib.colors import LogNorm\n",
    "import matplotlib.colors as colors\n",
    "from mpl_toolkits.basemap import Basemap\n",
    "from matplotlib.animation import FuncAnimation\n",
    "from mpl_toolkits.axes_grid.inset_locator import inset_axes\n",
    "\n",
    "import numpy as np\n",
    "import sys, os\n",
    "from netCDF4 import Dataset#, MFDataset\n",
    "from datetime import datetime\n",
    "import scipy.signal as sig\n",
    "from scipy.ndimage import gaussian_filter\n",
    "import scipy.interpolate as itp\n",
    "from PIL import Image, ImageDraw\n",
    "import json\n",
    "import pandas as pd\n",
    "\n",
    "KRYPTON = \"/data0/project/vortex/lahaye/\"\n",
    "RUCHBA = KRYPTON+\"local_ruchba/\""
   ]
  },
  {
   "cell_type": "code",
   "execution_count": 36,
   "metadata": {},
   "outputs": [],
   "source": [
    "simul = \"luckyt\"\n",
    "if simul in ['luckyt']:\n",
    "    season = \"_win\"\n",
    "    suff = season\n",
    "else:\n",
    "    season = \"\"\n",
    "    suff = \"-b\"\n",
    "\n",
    "grid_file = KRYPTON+\"/lucky_corgrd.nc\"\n",
    "doms_file = \"../NRJ_flux_diag/subdomains_lucky.json\"\n",
    "dirpic = 'pictures/modal_conv_scatter/' #paper/'\n",
    "dosavefig = True\n",
    "\n",
    "filscat = KRYPTON+'{0}_modemap/{0}_mode_scatdiag{1}.nc'.format(simul,suff)\n",
    "filcsv = \"./{0}_diagscat{1}.csv\".format(simul,suff)\n",
    "data_Fa14 = KRYPTON+\"Tide_Conv/Falahat_etal_2014_ModalConvM2.nc\"\n",
    "\n",
    "with open(doms_file, \"r\") as fp:\n",
    "    mydoms = json.load(fp)\n",
    "      \n",
    "# unfold subdomains\n",
    "doms, nams = [], []\n",
    "for key,val in mydoms.items():\n",
    "    if key == \"ridges\":\n",
    "        for ido,dom in enumerate(val):\n",
    "            doms.append(dom)\n",
    "            nams.append(key.rstrip(\"s\")+str(ido+1))\n",
    "    else:\n",
    "        doms.append(val)\n",
    "        nams.append(key)\n",
    "\n",
    "# load dataframe\n",
    "\n",
    "#datfra = pd.read_csv(filcsv, header=[0,1], index_col=0)#, converters={'Cmn': eval})\n",
    "datfra = pd.read_pickle(filcsv.replace(\"csv\",\"pkl\"))\n",
    "nmod = len(datfra)\n",
    "\n",
    "rho0 = 1025"
   ]
  },
  {
   "cell_type": "code",
   "execution_count": 37,
   "metadata": {},
   "outputs": [],
   "source": [
    "def eformat(f, prec=0, exp_digits=1):\n",
    "    \"\"\"Tweak number of digits in exponent -- could use numpy.format_float_scientific, but it's not available\"\"\"\n",
    "    s = \"%.*e\"%(prec, f)\n",
    "    mantissa, exp = s.split('e')\n",
    "    # add 1 to digits as 1 is taken by sign +/-\n",
    "    return \"%se%+0*d\"%(mantissa, exp_digits+1, int(exp))\n",
    "\n",
    "def fformat(x):\n",
    "    return \"{:.2f}\".format(x).replace(\"0.\", \".\")[:3+int(x<0)]\n",
    "\n",
    "def set_myticks(vamp,vlin):\n",
    "    \"\"\" warning vamp must have log10=0 \"\"\"\n",
    "    tab = np.arange(min(1,vamp),min(9,vamp)+1)\n",
    "    for ii in range(int(round(np.log10(vamp/vlin)))-1):\n",
    "        tab = np.r_[np.arange(1,10)/10**(ii+1), tab]\n",
    "    return np.r_[-tab[::-1], 0, tab]"
   ]
  },
  {
   "cell_type": "code",
   "execution_count": 46,
   "metadata": {},
   "outputs": [
    {
     "data": {
      "image/png": "[encoded data removed]",
      "text/plain": [
       "<matplotlib.figure.Figure at 0x7f879bbccb00>"
      ]
     },
     "metadata": {},
     "output_type": "display_data"
    }
   ],
   "source": [
    "dom = \"islands\"\n",
    "nmodplot = min(11, nmod)\n",
    "vamp = 5\n",
    "vlin = vamp/100\n",
    "fs = 11\n",
    "gcol = \"grey\"\n",
    "glw = 1.5\n",
    "cmap = \"seismic\"\n",
    "\n",
    "indm = np.arange(nmodplot)\n",
    "# load cmn matrix\n",
    "cmn = np.zeros((nmod,nmod))\n",
    "for imod in range(nmod):\n",
    "    cmn[imod,imod+1:] = datfra[\"Cmn\",dom][imod]*1e3 # mW/m^2\n",
    "if nmodplot < nmod:\n",
    "    toplot = np.c_[cmn[:nmodplot,:nmodplot], np.zeros((nmodplot,1)), cmn[:nmodplot,nmodplot:].sum(axis=1)]\n",
    "    xmod = np.r_[np.arange(-.5, nmodplot, 1), nmodplot+np.array([-.25,+.75])]\n",
    "else:\n",
    "    toplot = cmn[:nmodplot,:nmodplot]\n",
    "    xmod = np.arange(-.5, nmodplot, 1)\n",
    "\n",
    "fig, axs = plt.subplots(1,1, figsize=(6,5))\n",
    "ax = axs#[0]\n",
    "\n",
    "ymod = np.arange(-.5, nmodplot, 1)\n",
    "him = ax.pcolor(xmod, ymod, np.ma.masked_where(toplot==0,toplot), cmap=cmap, \\\n",
    "                norm=colors.SymLogNorm(linthresh=vlin, linscale=.1, vmin=-vamp, vmax=vamp), edgecolor=\"grey\")\n",
    "#him = ax.imshow(np.ma.masked_where(toplot==0,toplot), cmap=cmap, \\\n",
    "#                norm=colors.SymLogNorm(linthresh=vamp/10, vmin=-vamp, vmax=vamp))\n",
    "cax = inset_axes(ax, width=\"55%\", height=\"6%\", loc=\"lower left\", borderpad=1.5)\n",
    "cbar = plt.colorbar(him, cax=cax, orientation='horizontal')#, extend=\"both\", boundaries=[-vamp/5, vamp])\n",
    "#ticks = np.linspace(-vamp,)\n",
    "cax.set_title(r'[mW/m$^2$]')\n",
    "#cbar.ax.set_xlim([-vamp/5, vamp])\n",
    "mticks = set_myticks(vamp,vlin)\n",
    "cbar.set_ticks(mticks)\n",
    "labs = cbar.ax.get_xticklabels()\n",
    "labs[len(mticks)//2].set_text(\"\")\n",
    "cbar.ax.set_xticklabels(labs, rotation=20)\n",
    "ax.invert_yaxis()\n",
    "\n",
    "# add values\n",
    "\n",
    "for jj in indm:\n",
    "    for ii in indm[jj+1:]:\n",
    "        ax.text(ii, jj, fformat(toplot[jj,ii]), ha=\"center\", va=\"center\", fontsize=fs)\n",
    "        #ax.text(ii, jj, \"{:.2f}\".format(cmn[jj,ii]), ha=\"center\", va=\"center\", fontsize=fs)\n",
    "    ax.text(jj, jj, str(jj), ha=\"center\", va=\"center\", fontsize=fs+1)\n",
    "if nmodplot < nmod:\n",
    "    for jj in range(nmodplot):\n",
    "        ax.text(nmodplot+.25, jj, fformat(toplot[jj,-1]), ha=\"center\", va=\"center\", fontsize=fs)\n",
    "\n",
    "ax.set_xticks(np.r_[np.arange(1,nmodplot), nmodplot+.25])\n",
    "ax.set_xticklabels([str(i) for i in range(1,nmodplot)]+[\">10\"])\n",
    "ax.text(-.5,-.75,\"m\\\\n\",fontsize=fs)\n",
    "#ax.set_yticks(np.arange(nmod))\n",
    "ax.tick_params(top=True, bottom=False, left=False, labelleft=False,\n",
    "                   labeltop=True, labelbottom=False)\n",
    "for border in \"left\",\"bottom\":\n",
    "    ax.spines[border].set_visible(False)\n",
    "ax.set_aspect(1)\n",
    "\n",
    "for jj in range(nmodplot-2): # add special grid\n",
    "    #ax.plot([jj+1.5,nmodplot-.5], [jj+.5,jj+.5], color=gcol, lw=glw)\n",
    "    #ax.plot([jj+.5,jj+.5], [-.5,jj-.5], color=gcol, lw=glw-.5)\n",
    "    ax.plot([jj+.5,jj+1.5], [jj+.5,jj+.5], color=\"k\", lw=glw)\n",
    "    ax.plot([jj+.5,jj+.5], [jj-.5,jj+.5], color=\"k\", lw=glw)\n",
    "jj += 1\n",
    "ax.plot([jj+.5,jj+1.75], [jj+.5,jj+.5], color=\"k\", lw=glw)\n",
    "ax.plot([jj+.5,jj+.5], [jj-.5,jj+.5], color=\"k\", lw=glw)\n",
    "#jj += 1\n",
    "#ax.plot([jj+.75,jj+1.75], [jj+.5,jj+.5], color=\"k\", lw=glw)\n",
    "#ax.plot([jj+.75,jj+.75], [jj-.5,jj+.5], color=\"k\", lw=glw)\n",
    "\n",
    "if dosavefig:\n",
    "    fig.savefig(dirpic+\"{0}_Cmn-mat_{1}.pdf\".format(simul+season,dom), magnification=\"auto\", bbox_inches=\"tight\")"
   ]
  },
  {
   "cell_type": "code",
   "execution_count": 41,
   "metadata": {
    "scrolled": true
   },
   "outputs": [
    {
     "data": {
      "text/plain": [
       "((11,), (11,), (10, 10))"
      ]
     },
     "execution_count": 41,
     "metadata": {},
     "output_type": "execute_result"
    }
   ],
   "source": [
    "xmod.shape, ymod.shape, toplot.shape"
   ]
  },
  {
   "cell_type": "code",
   "execution_count": null,
   "metadata": {},
   "outputs": [],
   "source": []
  }
 ],
 "metadata": {
  "kernelspec": {
   "display_name": "Py3 Jhub",
   "language": "python",
   "name": "py3-jhub"
  },
  "language_info": {
   "codemirror_mode": {
    "name": "ipython",
    "version": 3
   },
   "file_extension": ".py",
   "mimetype": "text/x-python",
   "name": "python",
   "nbconvert_exporter": "python",
   "pygments_lexer": "ipython3",
   "version": "3.5.2"
  }
 },
 "nbformat": 4,
 "nbformat_minor": 2
}
