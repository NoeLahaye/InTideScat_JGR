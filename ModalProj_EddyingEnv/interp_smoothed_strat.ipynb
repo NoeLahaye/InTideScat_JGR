{
 "cells": [
  {
   "cell_type": "markdown",
   "metadata": {},
   "source": [
    "# interp_smoothed_strat\n",
    "Read stratification from \"lowpass\" smoothed strat netCDF file and interpolate it on desired grid (in space and time)\n",
    "\n",
    "this was to diagnoze $\\delta z$ at the base of the mixed layer, as $\\delta z = \\frac{\\delta b}{<N^2>}$ ($\\delta b = b - <b>$)"
   ]
  },
  {
   "cell_type": "code",
   "execution_count": 16,
   "metadata": {},
   "outputs": [],
   "source": [
    "% matplotlib inline\n",
    "from matplotlib import pyplot as plt\n",
    "\n",
    "import numpy as np\n",
    "from netCDF4 import Dataset\n",
    "import sys\n",
    "import time as tm\n",
    "for pap in ['/home/lahaye/Coding/Py3_ROMS_Modules']:\n",
    "    if pap not in sys.path:\n",
    "        sys.path.append(pap)\n",
    "import R_tools_fort as toolsf\n",
    "from R_smooth import get_tri_coef\n",
    "from scipy.spatial import Delaunay\n",
    "import scipy.interpolate as itp\n",
    "\n",
    "KRYPTON = \"/data0/project/vortex/lahaye/\"\n",
    "RUCHBA = \"/net/ruchba/local/tmp/2/lahaye/\""
   ]
  },
  {
   "cell_type": "code",
   "execution_count": 6,
   "metadata": {},
   "outputs": [],
   "source": [
    "# some parameters\n",
    "\n",
    "imin, imax = 200, 400\n",
    "jmin, jmax = 800, 1000\n",
    "it = 10     # time index (original or subsampled time series)\n",
    "\n",
    "path_tser = KRYPTON + \"luckyt_tseries/luckyt_tseries_{}.nc\" #.format(var_iz{iz})\n",
    "path_strat = RUCHBA + \"luckyt_tseries_lf/luckyt_subsamp_strat_win.nc\"\n",
    "path_grid = KRYPTON + \"lucky_corgrd.nc\""
   ]
  },
  {
   "cell_type": "code",
   "execution_count": 20,
   "metadata": {},
   "outputs": [
    {
     "name": "stdout",
     "output_type": "stream",
     "text": [
      "just finished loading stuffs\n",
      "triangulation 0.9951540000000003 0.9988946914672852\n"
     ]
    }
   ],
   "source": [
    "# outside the routine: load x-, y-grid, determine hor. interpolating coeff (delaunay triangulation)\n",
    "\n",
    "# load \"time series\" netCDF file and get hor. indices arrays\n",
    "\n",
    "nc = Dataset(path_tser.format(\"2Dvars\"))\n",
    "xi = nc.variables['xi_rho'][:].astype(int)\n",
    "indx, = np.where((xi>=imin) & (xi<=imax))\n",
    "eta = nc.variables['eta_rho'][:].astype(int)\n",
    "indy, = np.where((eta>=jmin) & (eta<=jmax))\n",
    "xx = nc.variables['lon_rho'][indy,indx].T\n",
    "yy = nc.variables['lat_rho'][indy,indx].T\n",
    "Nx, Ny = xx.shape\n",
    "xo, eto = xi[indx], eta[indy]\n",
    "hc = nc.hc\n",
    "Cs_r = nc.Cs_r\n",
    "Cs_w = nc.Cs_w\n",
    "timef = nc.variables['time'][:]\n",
    "nc.close()\n",
    "Nz = Cs_r.size\n",
    "\n",
    "# load topography to compute zlevs\n",
    "nc = Dataset(path_grid)\n",
    "topo = nc.variables['h'][eta[indy],xi[indx]].T\n",
    "nc.close()\n",
    "\n",
    "zr, zw = toolsf.zlevs(topo,np.zeros(topo.shape),hc,Cs_r,Cs_w)\n",
    "\n",
    "# load grid in strat file\n",
    "nc = Dataset(path_strat)\n",
    "xi = nc.variables['xi_rho'][:].astype(int)\n",
    "i1 = np.where(xi>imin)[0][0]-1\n",
    "i2 = np.where(xi<imax)[0][-1]+2\n",
    "eta = nc.variables['eta_rho'][:].astype(int)\n",
    "j1 = np.where(eta>jmin)[0][0]-1\n",
    "j2 = np.where(eta<jmax)[0][-1]+2\n",
    "lon = nc.variables['lon_rho'][j1:j2,i1:i2].T\n",
    "lat = nc.variables['lat_rho'][j1:j2,i1:i2].T\n",
    "times = nc.variables['time'][:]\n",
    "nc.close()\n",
    "\n",
    "nc = Dataset(path_grid)\n",
    "h = nc.variables['h'][eta[j1:j2],xi[i1:i2]].T\n",
    "nc.close()\n",
    "_, zz = toolsf.zlevs(h,np.zeros(h.shape),hc,Cs_r,Cs_w)\n",
    "nx, ny = h.shape\n",
    "xi, eta = xi[i1:i2], eta[j1:j2]\n",
    "zref= zz[0,0,1:-1]/h[0,0]   # for vertical integration\n",
    "print('just finished loading stuffs')\n",
    "\n",
    "# bilinear interpolation using delaunay triangulation\n",
    "tmes, tmeb = tm.clock(), tm.time()\n",
    "elem, coef = get_tri_coef(lon,lat,xx,yy)\n",
    "print(\"triangulation\",tm.clock()-tmes,tm.time()-tmeb)"
   ]
  },
  {
   "cell_type": "code",
   "execution_count": 24,
   "metadata": {},
   "outputs": [
    {
     "name": "stdout",
     "output_type": "stream",
     "text": [
      "interpolated 0.2625840000000004 0.2626383304595947\n",
      "reconstructed 0.5175140000000003 0.5193440914154053\n"
     ]
    }
   ],
   "source": [
    "# in function: interpolate\n",
    "nc = Dataset(path_strat, \"r\")\n",
    "data = nc.variables['bvf_lowf'][:,:,j1:j2,i1:i2]    # t, z\n",
    "nc.close()\n",
    "\n",
    "# z-interpolation\n",
    "finterp = []\n",
    "tmes, tmeb = tm.clock(), tm.time()\n",
    "for ii in range(nx):\n",
    "    for jj in range(ny):\n",
    "        finterp.append(itp.RectBivariateSpline(\\\n",
    "                times,zz[ii,jj,:],np.pad(data[:,:,jj,ii],((0,0),(1,1)),'edge')))\n",
    "finterp = np.array(finterp)\n",
    "print(\"interpolated\",tm.clock()-tmes,tm.time()-tmeb)\n",
    "\n",
    "tmes, tmeb = tm.clock(), tm.time()\n",
    "datint = np.zeros((Nz-1,Ny,Nx))\n",
    "for ii in range(Nx):\n",
    "    for jj in range(Ny):\n",
    "        valitp = np.array([finterp[kk](times[it],zw[ii,jj,1:-1]).squeeze() \\\n",
    "                            for kk in elem[ii,jj,:]])\n",
    "        datint[:,jj,ii] = (coef[ii,jj,:,None]*valitp).sum(axis=0)\n",
    "\n",
    "print(\"reconstructed\",tm.clock()-tmes,tm.time()-tmeb)"
   ]
  },
  {
   "cell_type": "code",
   "execution_count": 28,
   "metadata": {},
   "outputs": [
    {
     "data": {
      "text/plain": [
       "(16, 79, 35, 35)"
      ]
     },
     "execution_count": 28,
     "metadata": {},
     "output_type": "execute_result"
    }
   ],
   "source": [
    "data.shape"
   ]
  },
  {
   "cell_type": "code",
   "execution_count": null,
   "metadata": {},
   "outputs": [],
   "source": []
  }
 ],
 "metadata": {
  "kernelspec": {
   "display_name": "Py3 Jhub",
   "language": "python",
   "name": "py3-jhub"
  },
  "language_info": {
   "codemirror_mode": {
    "name": "ipython",
    "version": 3
   },
   "file_extension": ".py",
   "mimetype": "text/x-python",
   "name": "python",
   "nbconvert_exporter": "python",
   "pygments_lexer": "ipython3",
   "version": "3.5.2"
  }
 },
 "nbformat": 4,
 "nbformat_minor": 2
}
